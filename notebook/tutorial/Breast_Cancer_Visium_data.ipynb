{
 "cells": [
  {
   "cell_type": "code",
   "execution_count": 6,
   "id": "39d77a54-8d96-4ca5-bc1f-faea47f13930",
   "metadata": {},
   "outputs": [],
   "source": [
    "import os\n",
    "import sys\n",
    "import importlib\n",
    "import pandas as pd\n",
    "import numpy as np\n",
    "import scanpy as sc\n",
    "import squidpy as sq\n",
    "import networkx as nx\n",
    "from scipy import stats\n",
    "import matplotlib.pyplot as plt\n",
    "from matplotlib.ticker import MaxNLocator\n",
    "import seaborn as sns\n",
    "import tqdm\n",
    "from joblib import Parallel, delayed\n",
    "import spatialdm as sdm"
   ]
  },
  {
   "cell_type": "code",
   "execution_count": 2,
   "id": "95e640a9-1587-4607-b2d0-fff3e7724f74",
   "metadata": {},
   "outputs": [],
   "source": [
    "import warnings\n",
    "import networkx as nx\n",
    "\n",
    "# Silencing FutureWarnings\n",
    "warnings.filterwarnings(\"ignore\", category=FutureWarning)\n",
    "warnings.filterwarnings(\"ignore\", category=UserWarning)"
   ]
  },
  {
   "cell_type": "code",
   "execution_count": 3,
   "id": "9baffef7-2c42-4a56-86fe-ac672ff1ec55",
   "metadata": {},
   "outputs": [],
   "source": [
    "import sys\n",
    "sys.path.append(\"/Users/hs0424/Workspace/copulacci/src/copulacci/\")\n",
    "import cci\n",
    "import spatial\n",
    "import model\n",
    "import model2\n",
    "import simulation"
   ]
  },
  {
   "cell_type": "code",
   "execution_count": 75,
   "id": "b54eb503-3fee-4401-a28f-a98756bffc50",
   "metadata": {},
   "outputs": [
    {
     "data": {
      "text/plain": [
       "<module 'model2' from '/Users/hs0424/Workspace/copulacci/src/copulacci/model2.py'>"
      ]
     },
     "execution_count": 75,
     "metadata": {},
     "output_type": "execute_result"
    }
   ],
   "source": [
    "import importlib\n",
    "importlib.reload(model2)"
   ]
  },
  {
   "cell_type": "markdown",
   "id": "1513f9ac-9d52-4e8e-912f-e7170afacb1c",
   "metadata": {},
   "source": [
    "## Extract LR pairs using SDM"
   ]
  },
  {
   "cell_type": "code",
   "execution_count": 4,
   "id": "5caf389a-e965-4528-84f2-1404e0129283",
   "metadata": {},
   "outputs": [],
   "source": [
    "adata = sq.datasets.visium(sample_id='V1_Breast_Cancer_Block_A_Section_1')\n",
    "annotation_meta = pd.read_csv(\n",
    "    'data/Human_Breast_Cancer_Metadata.tsv',\n",
    "    sep = '\\t',\n",
    "    index_col=0\n",
    ")\n",
    "adata.obs = adata.obs.join(annotation_meta)\n",
    "adata.var_names_make_unique()"
   ]
  },
  {
   "cell_type": "code",
   "execution_count": 7,
   "id": "6f2e39ef-91a4-477c-87f2-003aeebb0287",
   "metadata": {},
   "outputs": [],
   "source": [
    "adata_sdm = adata.copy()\n",
    "sdm.extract_lr(adata_sdm, 'human', min_cell=20)\n",
    "adata.obs['celltype'] = adata.obs.annot_type"
   ]
  },
  {
   "cell_type": "markdown",
   "id": "a4066d1d-87bc-41c8-8858-d0bf8515e53a",
   "metadata": {},
   "source": [
    "## Sparsity level of extracted LR pairs"
   ]
  },
  {
   "cell_type": "code",
   "execution_count": 9,
   "id": "2b528a18-4652-4897-9fb5-9b02826172a3",
   "metadata": {},
   "outputs": [
    {
     "name": "stdout",
     "output_type": "stream",
     "text": [
      "Total non-zero counts 25.48%\n"
     ]
    }
   ],
   "source": [
    "df_lig_rec_linear = cci.extract_lig_rec_from_sdm(adata_sdm, allow_same_lr=True)\n",
    "chosen_lr = list(set( df_lig_rec_linear.ligand.unique()).union(\n",
    "    set( df_lig_rec_linear.receptor.unique() )\n",
    "))\n",
    "count_lr = adata.to_df().loc[:,chosen_lr]\n",
    "percent = np.count_nonzero(count_lr,0).mean() / np.shape(count_lr)[0]\n",
    "print(f\"Total non-zero counts {percent*100:.2f}%\")"
   ]
  },
  {
   "cell_type": "markdown",
   "id": "2db67ffa-27c1-4a87-9cc8-6608529fb01e",
   "metadata": {},
   "source": [
    "## Count matrix"
   ]
  },
  {
   "cell_type": "code",
   "execution_count": 11,
   "id": "661ddeb3-8294-4fbb-9b30-02c5a0f8ad8e",
   "metadata": {},
   "outputs": [],
   "source": [
    "count_df = adata.to_df()"
   ]
  },
  {
   "cell_type": "markdown",
   "id": "c868d41a-7682-47df-b706-cb449eab8752",
   "metadata": {},
   "source": [
    "## Create spatial network"
   ]
  },
  {
   "cell_type": "code",
   "execution_count": 14,
   "id": "202f99bb-0f09-4c05-ae85-1e28f74aa036",
   "metadata": {},
   "outputs": [
    {
     "name": "stdout",
     "output_type": "stream",
     "text": [
      "Constructing spatial network with visium\n"
     ]
    },
    {
     "name": "stderr",
     "output_type": "stream",
     "text": [
      "100%|█████████████████████████████████████████████████████████████████████████████████████████████████████████████████████████████████████████████████████████████████████████| 3798/3798 [00:00<00:00, 18217.86it/s]\n"
     ]
    }
   ],
   "source": [
    "int_edges_new, int_edges_with_selfloop = spatial.construct_boundary(\n",
    "    adata,\n",
    "    force_recalculate=True,\n",
    "    distance_aware=False\n",
    ")"
   ]
  },
  {
   "cell_type": "markdown",
   "id": "dec84102-b726-42fa-9a86-708506778df5",
   "metadata": {},
   "source": [
    "## Create a dataset"
   ]
  },
  {
   "cell_type": "code",
   "execution_count": 16,
   "id": "384efe30-2141-407d-b0d2-3d8211958b64",
   "metadata": {},
   "outputs": [
    {
     "name": "stderr",
     "output_type": "stream",
     "text": [
      "100%|████████████████████████████████████████████████████████████████████████████████████████████████████████████████████████████████████████████████████████████████████████████████| 16/16 [00:19<00:00,  1.22s/it]\n"
     ]
    }
   ],
   "source": [
    "data_list_dict, umi_sums, dist_list_dict, data_list_dict_selfloop, umi_sums_selfloop, dist_list_dict_selfloop = \\\n",
    "spatial.prepare_data_list_for_visium(\n",
    "    count_df,\n",
    "    int_edges_with_selfloop,\n",
    "    lig_rec_info_df=adata_sdm.uns['geneInter'],\n",
    "    heteromeric=True,\n",
    "    lig_df=adata_sdm.uns['ligand'],\n",
    "    rec_df=adata_sdm.uns['receptor'],\n",
    "    summarization='sum',\n",
    "    separate_lig_rec_type=True\n",
    ")"
   ]
  },
  {
   "cell_type": "markdown",
   "id": "24cb9632-c7ab-4cac-acd2-16a5af14a09f",
   "metadata": {},
   "source": [
    "## Run copula for Tumor → Surrounding tumor (For quick result run for one pair of groups)"
   ]
  },
  {
   "cell_type": "code",
   "execution_count": 17,
   "id": "4a11bd22-d9e0-4889-b822-4bfa87b26538",
   "metadata": {},
   "outputs": [],
   "source": [
    "lig_rec_info_df=adata_sdm.uns['geneInter'].copy()\n",
    "close_contact_index = []\n",
    "other_index = []\n",
    "for index,row in lig_rec_info_df.iterrows():\n",
    "    if row.annotation == 'Cell-Cell Contact':\n",
    "        close_contact_index += [index]\n",
    "    else:\n",
    "        other_index += [index]"
   ]
  },
  {
   "cell_type": "code",
   "execution_count": 18,
   "id": "bd5e458d-64e2-4da8-ab39-917bf0eb58e7",
   "metadata": {
    "scrolled": true
   },
   "outputs": [
    {
     "name": "stdout",
     "output_type": "stream",
     "text": [
      "Tumor=Surrounding tumor\n"
     ]
    },
    {
     "name": "stderr",
     "output_type": "stream",
     "text": [
      "[Parallel(n_jobs=20)]: Using backend LokyBackend with 20 concurrent workers.\n",
      "/Users/hs0424/Workspace/copulacci/src/copulacci/model2.py:324: RuntimeWarning: divide by zero encountered in log\n",
      "  mu_x_start = np.log(x.sum() / umi_sum_1.sum())\n",
      "[Parallel(n_jobs=20)]: Done  10 tasks      | elapsed:   21.9s\n",
      "/Users/hs0424/Workspace/copulacci/src/copulacci/model2.py:324: RuntimeWarning: divide by zero encountered in log\n",
      "  mu_x_start = np.log(x.sum() / umi_sum_1.sum())\n",
      "/Users/hs0424/Workspace/copulacci/src/copulacci/model2.py:324: RuntimeWarning: divide by zero encountered in log\n",
      "  mu_x_start = np.log(x.sum() / umi_sum_1.sum())\n",
      "/Users/hs0424/Workspace/copulacci/src/copulacci/model2.py:324: RuntimeWarning: divide by zero encountered in log\n",
      "  mu_x_start = np.log(x.sum() / umi_sum_1.sum())\n",
      "/Users/hs0424/Workspace/copulacci/src/copulacci/model2.py:324: RuntimeWarning: divide by zero encountered in log\n",
      "  mu_x_start = np.log(x.sum() / umi_sum_1.sum())\n",
      "[Parallel(n_jobs=20)]: Done 160 tasks      | elapsed:  1.5min\n",
      "/Users/hs0424/Workspace/copulacci/src/copulacci/model2.py:324: RuntimeWarning: divide by zero encountered in log\n",
      "  mu_x_start = np.log(x.sum() / umi_sum_1.sum())\n",
      "/Users/hs0424/Workspace/copulacci/src/copulacci/model2.py:324: RuntimeWarning: divide by zero encountered in log\n",
      "  mu_x_start = np.log(x.sum() / umi_sum_1.sum())\n",
      "/Users/hs0424/Workspace/copulacci/src/copulacci/model2.py:324: RuntimeWarning: divide by zero encountered in log\n",
      "  mu_x_start = np.log(x.sum() / umi_sum_1.sum())\n",
      "/Users/hs0424/Workspace/copulacci/src/copulacci/model2.py:324: RuntimeWarning: divide by zero encountered in log\n",
      "  mu_x_start = np.log(x.sum() / umi_sum_1.sum())\n",
      "/Users/hs0424/Workspace/copulacci/src/copulacci/model2.py:324: RuntimeWarning: divide by zero encountered in log\n",
      "  mu_x_start = np.log(x.sum() / umi_sum_1.sum())\n",
      "/Users/hs0424/Workspace/copulacci/src/copulacci/model2.py:325: RuntimeWarning: divide by zero encountered in log\n",
      "  mu_y_start = np.log(y.sum() / umi_sum_2.sum())\n",
      "[Parallel(n_jobs=20)]: Done 410 tasks      | elapsed:  2.5min\n",
      "[Parallel(n_jobs=20)]: Done 800 tasks      | elapsed:  3.3min\n",
      "/Users/hs0424/Workspace/copulacci/src/copulacci/model2.py:324: RuntimeWarning: divide by zero encountered in log\n",
      "  mu_x_start = np.log(x.sum() / umi_sum_1.sum())\n",
      "/Users/hs0424/Workspace/copulacci/src/copulacci/model2.py:324: RuntimeWarning: divide by zero encountered in log\n",
      "  mu_x_start = np.log(x.sum() / umi_sum_1.sum())\n",
      "/Users/hs0424/Workspace/copulacci/src/copulacci/model2.py:324: RuntimeWarning: divide by zero encountered in log\n",
      "  mu_x_start = np.log(x.sum() / umi_sum_1.sum())\n",
      "[Parallel(n_jobs=20)]: Done 1050 out of 1050 | elapsed:  3.7min finished\n"
     ]
    }
   ],
   "source": [
    "copula_params = model2.CopulaParams()\n",
    "opt_params = model2.OptParams()\n",
    "opt_params = opt_params._replace(num_starts=50)\n",
    "\n",
    "cop_df_dict = model2.run_copula(\n",
    "    data_list_dict,\n",
    "    umi_sums,\n",
    "    df_lig_rec_index=other_index,\n",
    "    groups=['Tumor=Surrounding tumor'],\n",
    "    n_jobs=20,\n",
    "    heteronomic=True,\n",
    "    use_zero_cutoff=True,\n",
    "    use_length_cutoff=True,\n",
    "    copula_params=copula_params,\n",
    "    opt_params=opt_params\n",
    ")"
   ]
  },
  {
   "cell_type": "code",
   "execution_count": 56,
   "id": "83594e3a-9fba-4b4e-a6aa-de4af6f29f25",
   "metadata": {},
   "outputs": [],
   "source": [
    "copula_df = cop_df_dict['Tumor=Surrounding tumor']"
   ]
  },
  {
   "cell_type": "markdown",
   "id": "7ef2c38f-37b5-4a52-bd44-a40d32c25da7",
   "metadata": {},
   "source": [
    "### Calculate p-values"
   ]
  },
  {
   "cell_type": "code",
   "execution_count": 82,
   "id": "456b9600-3fe0-47c6-b153-65e7e409f0f7",
   "metadata": {},
   "outputs": [],
   "source": [
    "# Download from https://drive.google.com/drive/u/0/folders/1MtenBN2spAvCxa27y3T6suxphJPC3oO9\n",
    "\n",
    "permutation_df = pd.read_csv(\n",
    "    os.path.join(\n",
    "    '/Users/hs0424/Workspace/copulacci/notebook/'\n",
    "    'orator_paper_notebook/ISMB_submission_notebooks/',\n",
    "    'BRCA_visium/copula_results/',\n",
    "    'permutation_data_frame_Tumor=Surrounding tumor.csv'\n",
    "    \n",
    "))\n"
   ]
  },
  {
   "cell_type": "code",
   "execution_count": 57,
   "id": "696a7e61-f57f-4135-89c8-6fe6c1dec75a",
   "metadata": {},
   "outputs": [],
   "source": [
    "copula_df = copula_df.reset_index().rename(columns = {'index' : 'LR_index'})"
   ]
  },
  {
   "cell_type": "code",
   "execution_count": 58,
   "id": "99e33cc6-8cc9-4bc9-b95f-f5d938b1da60",
   "metadata": {},
   "outputs": [],
   "source": [
    "copula_df.loc[:, 'pval'] = 1.0"
   ]
  },
  {
   "cell_type": "code",
   "execution_count": 59,
   "id": "a3896774-5e70-4c3e-ad57-ce1d4d984370",
   "metadata": {},
   "outputs": [
    {
     "data": {
      "text/html": [
       "<div>\n",
       "<style scoped>\n",
       "    .dataframe tbody tr th:only-of-type {\n",
       "        vertical-align: middle;\n",
       "    }\n",
       "\n",
       "    .dataframe tbody tr th {\n",
       "        vertical-align: top;\n",
       "    }\n",
       "\n",
       "    .dataframe thead th {\n",
       "        text-align: right;\n",
       "    }\n",
       "</style>\n",
       "<table border=\"1\" class=\"dataframe\">\n",
       "  <thead>\n",
       "    <tr style=\"text-align: right;\">\n",
       "      <th></th>\n",
       "      <th>LR_index</th>\n",
       "      <th>copula_coeff</th>\n",
       "      <th>mu_x</th>\n",
       "      <th>mu_y</th>\n",
       "      <th>copula_method</th>\n",
       "      <th>pval</th>\n",
       "    </tr>\n",
       "  </thead>\n",
       "  <tbody>\n",
       "    <tr>\n",
       "      <th>0</th>\n",
       "      <td>COL4A4_ITGA9_ITGB1</td>\n",
       "      <td>0.000000</td>\n",
       "      <td>-15.819865</td>\n",
       "      <td>-8.233241</td>\n",
       "      <td>skip_zero_cutoff</td>\n",
       "      <td>1.0</td>\n",
       "    </tr>\n",
       "    <tr>\n",
       "      <th>1</th>\n",
       "      <td>COL6A1_ITGA9_ITGB1</td>\n",
       "      <td>0.103003</td>\n",
       "      <td>-8.817694</td>\n",
       "      <td>-8.234218</td>\n",
       "      <td>copula</td>\n",
       "      <td>1.0</td>\n",
       "    </tr>\n",
       "    <tr>\n",
       "      <th>2</th>\n",
       "      <td>COL6A2_ITGA9_ITGB1</td>\n",
       "      <td>0.018371</td>\n",
       "      <td>-8.473260</td>\n",
       "      <td>-8.234098</td>\n",
       "      <td>copula</td>\n",
       "      <td>1.0</td>\n",
       "    </tr>\n",
       "    <tr>\n",
       "      <th>3</th>\n",
       "      <td>COL4A3_ITGA9_ITGB1</td>\n",
       "      <td>0.000000</td>\n",
       "      <td>-15.819865</td>\n",
       "      <td>-8.233241</td>\n",
       "      <td>skip_zero_cutoff</td>\n",
       "      <td>1.0</td>\n",
       "    </tr>\n",
       "    <tr>\n",
       "      <th>4</th>\n",
       "      <td>COL6A3_ITGA9_ITGB1</td>\n",
       "      <td>0.056685</td>\n",
       "      <td>-9.345295</td>\n",
       "      <td>-8.234934</td>\n",
       "      <td>copula</td>\n",
       "      <td>1.0</td>\n",
       "    </tr>\n",
       "  </tbody>\n",
       "</table>\n",
       "</div>"
      ],
      "text/plain": [
       "             LR_index  copula_coeff       mu_x      mu_y     copula_method  \\\n",
       "0  COL4A4_ITGA9_ITGB1      0.000000 -15.819865 -8.233241  skip_zero_cutoff   \n",
       "1  COL6A1_ITGA9_ITGB1      0.103003  -8.817694 -8.234218            copula   \n",
       "2  COL6A2_ITGA9_ITGB1      0.018371  -8.473260 -8.234098            copula   \n",
       "3  COL4A3_ITGA9_ITGB1      0.000000 -15.819865 -8.233241  skip_zero_cutoff   \n",
       "4  COL6A3_ITGA9_ITGB1      0.056685  -9.345295 -8.234934            copula   \n",
       "\n",
       "   pval  \n",
       "0   1.0  \n",
       "1   1.0  \n",
       "2   1.0  \n",
       "3   1.0  \n",
       "4   1.0  "
      ]
     },
     "execution_count": 59,
     "metadata": {},
     "output_type": "execute_result"
    }
   ],
   "source": [
    "copula_df.head()"
   ]
  },
  {
   "cell_type": "code",
   "execution_count": 63,
   "id": "6293a752-faaa-400f-bf83-50b6f93047d2",
   "metadata": {},
   "outputs": [
    {
     "name": "stderr",
     "output_type": "stream",
     "text": [
      "1050it [00:00, 13494.07it/s]\n"
     ]
    }
   ],
   "source": [
    "for index, row in tqdm.tqdm(copula_df.iterrows()):\n",
    "    if row.LR_index in permutation_df.columns:\n",
    "        lr_exp = permutation_df[row.LR_index].values\n",
    "        I = row.copula_coeff\n",
    "        bg = np.append(lr_exp, I)\n",
    "        pval = np.sum(abs(bg) > abs(I))/len(bg)\n",
    "        copula_df.loc[index, 'pval'] = pval"
   ]
  },
  {
   "cell_type": "markdown",
   "id": "fc418fbf-bb23-4d10-8752-ddd5ba583f93",
   "metadata": {},
   "source": [
    "## Run SCC for Tumor → Surrounding tumor (For quick result run for one pair of groups)"
   ]
  },
  {
   "cell_type": "code",
   "execution_count": 65,
   "id": "741c12c4-bcca-49a3-8c97-fe4b1d561a28",
   "metadata": {
    "scrolled": true
   },
   "outputs": [
    {
     "name": "stdout",
     "output_type": "stream",
     "text": [
      "Tumor=Surrounding tumor\n"
     ]
    },
    {
     "name": "stderr",
     "output_type": "stream",
     "text": [
      "[Parallel(n_jobs=20)]: Using backend LokyBackend with 20 concurrent workers.\n",
      "/Users/hs0424/Workspace/copulacci/src/copulacci/model2.py:738: RuntimeWarning: invalid value encountered in double_scalars\n",
      "  SCC = (N/W) * (cv/v) / 2.0\n",
      "[Parallel(n_jobs=20)]: Done  10 tasks      | elapsed:   13.4s\n",
      "/Users/hs0424/Workspace/copulacci/src/copulacci/model2.py:738: RuntimeWarning: invalid value encountered in double_scalars\n",
      "  SCC = (N/W) * (cv/v) / 2.0\n",
      "/Users/hs0424/Workspace/copulacci/src/copulacci/model2.py:738: RuntimeWarning: invalid value encountered in double_scalars\n",
      "  SCC = (N/W) * (cv/v) / 2.0\n",
      "/Users/hs0424/Workspace/copulacci/src/copulacci/model2.py:738: RuntimeWarning: invalid value encountered in double_scalars\n",
      "  SCC = (N/W) * (cv/v) / 2.0\n",
      "/Users/hs0424/Workspace/copulacci/src/copulacci/model2.py:738: RuntimeWarning: invalid value encountered in double_scalars\n",
      "  SCC = (N/W) * (cv/v) / 2.0\n",
      "[Parallel(n_jobs=20)]: Done 160 tasks      | elapsed:   18.4s\n",
      "/Users/hs0424/Workspace/copulacci/src/copulacci/model2.py:738: RuntimeWarning: invalid value encountered in double_scalars\n",
      "  SCC = (N/W) * (cv/v) / 2.0\n",
      "/Users/hs0424/Workspace/copulacci/src/copulacci/model2.py:738: RuntimeWarning: invalid value encountered in double_scalars\n",
      "  SCC = (N/W) * (cv/v) / 2.0\n",
      "/Users/hs0424/Workspace/copulacci/src/copulacci/model2.py:738: RuntimeWarning: invalid value encountered in double_scalars\n",
      "  SCC = (N/W) * (cv/v) / 2.0\n",
      "/Users/hs0424/Workspace/copulacci/src/copulacci/model2.py:738: RuntimeWarning: invalid value encountered in double_scalars\n",
      "  SCC = (N/W) * (cv/v) / 2.0\n",
      "[Parallel(n_jobs=20)]: Done 410 tasks      | elapsed:   27.0s\n",
      "[Parallel(n_jobs=20)]: Done 760 tasks      | elapsed:   39.2s\n",
      "[Parallel(n_jobs=20)]: Done 1050 out of 1050 | elapsed:   49.2s finished\n"
     ]
    }
   ],
   "source": [
    "adata_scc = adata.copy()\n",
    "scc_df_dict = model2.run_scc(\n",
    "    adata_scc,\n",
    "    adata_sdm.uns['geneInter'],\n",
    "    int_edges_new,\n",
    "    groups=['Tumor=Surrounding tumor'],\n",
    "    lig_df=adata_sdm.uns['ligand'],\n",
    "    rec_df=adata_sdm.uns['receptor'],\n",
    "    n_jobs=20,\n",
    "    verbose=1,\n",
    "    heteronomic=True,\n",
    "    add_pval=True,\n",
    "    use_spatialdm=True\n",
    ")"
   ]
  },
  {
   "cell_type": "markdown",
   "id": "6d3ec4f7-94e3-44f0-9a2f-3059970c8163",
   "metadata": {},
   "source": [
    "## Run SDM for Tumor → Surrounding tumor (For quick result run for one pair of groups)"
   ]
  },
  {
   "cell_type": "code",
   "execution_count": 67,
   "id": "0e8c3ba0-7163-459e-bdeb-e6e9fd9b2893",
   "metadata": {
    "scrolled": true
   },
   "outputs": [
    {
     "name": "stdout",
     "output_type": "stream",
     "text": [
      "Tumor=Surrounding tumor\n",
      "DiGraph with 244 nodes and 234 edges\n",
      "(244, 36601)\n",
      "WARNING: adata.X seems to be already log-transformed.\n"
     ]
    },
    {
     "name": "stderr",
     "output_type": "stream",
     "text": [
      "/Users/hs0424/miniforge3/envs/py390/lib/python3.9/site-packages/spatialdm/utils.py:171: RuntimeWarning: invalid value encountered in divide\n",
      "  X = X/X.max()\n"
     ]
    },
    {
     "name": "stdout",
     "output_type": "stream",
     "text": [
      "time taken for  Tumor=Surrounding tumor  is  43.09043097496033  seconds\n"
     ]
    }
   ],
   "source": [
    "sdm_df_dict = model.run_sdm(\n",
    "    adata,\n",
    "    int_edges_new,\n",
    "    groups = ['Tumor=Surrounding tumor'],\n",
    "    nproc = 20,\n",
    "    heteronomic=True\n",
    ")"
   ]
  },
  {
   "cell_type": "markdown",
   "id": "286035ec-c2bd-405b-93a9-402d0b9a9cdc",
   "metadata": {},
   "source": [
    "## Merge results"
   ]
  },
  {
   "cell_type": "code",
   "execution_count": 68,
   "id": "b784e7a3-6c10-4841-9282-46a210153498",
   "metadata": {},
   "outputs": [
    {
     "data": {
      "text/html": [
       "<div>\n",
       "<style scoped>\n",
       "    .dataframe tbody tr th:only-of-type {\n",
       "        vertical-align: middle;\n",
       "    }\n",
       "\n",
       "    .dataframe tbody tr th {\n",
       "        vertical-align: top;\n",
       "    }\n",
       "\n",
       "    .dataframe thead th {\n",
       "        text-align: right;\n",
       "    }\n",
       "</style>\n",
       "<table border=\"1\" class=\"dataframe\">\n",
       "  <thead>\n",
       "    <tr style=\"text-align: right;\">\n",
       "      <th></th>\n",
       "      <th>LR_index</th>\n",
       "      <th>copula_coeff</th>\n",
       "      <th>mu_x</th>\n",
       "      <th>mu_y</th>\n",
       "      <th>copula_method</th>\n",
       "      <th>pval</th>\n",
       "    </tr>\n",
       "  </thead>\n",
       "  <tbody>\n",
       "    <tr>\n",
       "      <th>0</th>\n",
       "      <td>COL4A4_ITGA9_ITGB1</td>\n",
       "      <td>0.000000</td>\n",
       "      <td>-15.819865</td>\n",
       "      <td>-8.233241</td>\n",
       "      <td>skip_zero_cutoff</td>\n",
       "      <td>1.000000</td>\n",
       "    </tr>\n",
       "    <tr>\n",
       "      <th>1</th>\n",
       "      <td>COL6A1_ITGA9_ITGB1</td>\n",
       "      <td>0.103003</td>\n",
       "      <td>-8.817694</td>\n",
       "      <td>-8.234218</td>\n",
       "      <td>copula</td>\n",
       "      <td>0.005988</td>\n",
       "    </tr>\n",
       "    <tr>\n",
       "      <th>2</th>\n",
       "      <td>COL6A2_ITGA9_ITGB1</td>\n",
       "      <td>0.018371</td>\n",
       "      <td>-8.473260</td>\n",
       "      <td>-8.234098</td>\n",
       "      <td>copula</td>\n",
       "      <td>0.548902</td>\n",
       "    </tr>\n",
       "    <tr>\n",
       "      <th>3</th>\n",
       "      <td>COL4A3_ITGA9_ITGB1</td>\n",
       "      <td>0.000000</td>\n",
       "      <td>-15.819865</td>\n",
       "      <td>-8.233241</td>\n",
       "      <td>skip_zero_cutoff</td>\n",
       "      <td>1.000000</td>\n",
       "    </tr>\n",
       "    <tr>\n",
       "      <th>4</th>\n",
       "      <td>COL6A3_ITGA9_ITGB1</td>\n",
       "      <td>0.056685</td>\n",
       "      <td>-9.345295</td>\n",
       "      <td>-8.234934</td>\n",
       "      <td>copula</td>\n",
       "      <td>0.139721</td>\n",
       "    </tr>\n",
       "  </tbody>\n",
       "</table>\n",
       "</div>"
      ],
      "text/plain": [
       "             LR_index  copula_coeff       mu_x      mu_y     copula_method  \\\n",
       "0  COL4A4_ITGA9_ITGB1      0.000000 -15.819865 -8.233241  skip_zero_cutoff   \n",
       "1  COL6A1_ITGA9_ITGB1      0.103003  -8.817694 -8.234218            copula   \n",
       "2  COL6A2_ITGA9_ITGB1      0.018371  -8.473260 -8.234098            copula   \n",
       "3  COL4A3_ITGA9_ITGB1      0.000000 -15.819865 -8.233241  skip_zero_cutoff   \n",
       "4  COL6A3_ITGA9_ITGB1      0.056685  -9.345295 -8.234934            copula   \n",
       "\n",
       "       pval  \n",
       "0  1.000000  \n",
       "1  0.005988  \n",
       "2  0.548902  \n",
       "3  1.000000  \n",
       "4  0.139721  "
      ]
     },
     "execution_count": 68,
     "metadata": {},
     "output_type": "execute_result"
    }
   ],
   "source": [
    "copula_df.head()"
   ]
  },
  {
   "cell_type": "code",
   "execution_count": 69,
   "id": "f09176b4-51c8-49b5-8f9e-9fa020e857b4",
   "metadata": {},
   "outputs": [],
   "source": [
    "tmp1 = scc_df_dict['Tumor=Surrounding tumor'].copy()\n",
    "tmp2 = sdm_df_dict['Tumor=Surrounding tumor'].copy()\n",
    "tmp3 = tmp1.join(tmp2[['global_I', 'global_pval']], how='inner')\n",
    "\n",
    "res = copula_df.set_index('LR_index').join(tmp3, how='inner')"
   ]
  },
  {
   "cell_type": "markdown",
   "id": "c310b5cc-831e-4a22-ac60-4fb6d1b36706",
   "metadata": {},
   "source": [
    "## Keep the intersection"
   ]
  },
  {
   "cell_type": "code",
   "execution_count": 73,
   "id": "208ff55d-0e45-444b-bbb6-acabfee0691d",
   "metadata": {},
   "outputs": [],
   "source": [
    "res = res.loc[res.copula_method == 'copula'].copy()"
   ]
  },
  {
   "cell_type": "code",
   "execution_count": 77,
   "id": "7620a9fe-4be0-47b5-9728-a5c24f088caa",
   "metadata": {},
   "outputs": [],
   "source": [
    "import itertools\n",
    "score_pair = list(itertools.combinations(['copula_coeff', 'scc','global_I'],2))\n",
    "import plots2"
   ]
  },
  {
   "cell_type": "code",
   "execution_count": 81,
   "id": "dec43916-9eb2-4d56-acdc-332614a63296",
   "metadata": {},
   "outputs": [
    {
     "data": {
      "image/png": "[encoded data removed]",
      "text/plain": [
       "<Figure size 1200x400 with 3 Axes>"
      ]
     },
     "metadata": {},
     "output_type": "display_data"
    }
   ],
   "source": [
    "plots2.draw_pairwise_scatter(\n",
    "    res,\n",
    "      'Tumor=Surrounding tumor',\n",
    "      score_pair,\n",
    "      bimod_filter=False,\n",
    "    s = 5,\n",
    "    ntop=3,\n",
    "    #only_pos=True\n",
    ")"
   ]
  },
  {
   "cell_type": "code",
   "execution_count": null,
   "id": "e253db5d-b1fe-4813-b9cd-81bbd19aa1b5",
   "metadata": {},
   "outputs": [],
   "source": []
  }
 ],
 "metadata": {
  "kernelspec": {
   "display_name": "Python 3 (ipykernel)",
   "language": "python",
   "name": "python3"
  },
  "language_info": {
   "codemirror_mode": {
    "name": "ipython",
    "version": 3
   },
   "file_extension": ".py",
   "mimetype": "text/x-python",
   "name": "python",
   "nbconvert_exporter": "python",
   "pygments_lexer": "ipython3",
   "version": "3.9.18"
  }
 },
 "nbformat": 4,
 "nbformat_minor": 5
}
