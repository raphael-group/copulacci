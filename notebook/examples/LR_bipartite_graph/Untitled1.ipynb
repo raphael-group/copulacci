{
 "cells": [
  {
   "cell_type": "markdown",
   "id": "c0f82263-40a4-40d8-811d-bf5e314c4c45",
   "metadata": {},
   "source": []
  },
  {
   "cell_type": "code",
   "execution_count": 1,
   "id": "86d27176-18ef-4ad0-9c81-2e2ebf99fefe",
   "metadata": {},
   "outputs": [],
   "source": [
    "load('/n/fs/ragr-research/users/hirak/Projects/copulacci/src/copulacci/data/lrpairs.rda')"
   ]
  },
  {
   "cell_type": "code",
   "execution_count": 3,
   "id": "43a0b93c-2729-4424-b9ac-1d45f2ec3fb6",
   "metadata": {},
   "outputs": [
    {
     "name": "stderr",
     "output_type": "stream",
     "text": [
      "\n",
      "Attaching package: ‘dplyr’\n",
      "\n",
      "\n",
      "The following objects are masked from ‘package:stats’:\n",
      "\n",
      "    filter, lag\n",
      "\n",
      "\n",
      "The following objects are masked from ‘package:base’:\n",
      "\n",
      "    intersect, setdiff, setequal, union\n",
      "\n",
      "\n"
     ]
    }
   ],
   "source": [
    "library(dplyr)"
   ]
  },
  {
   "cell_type": "code",
   "execution_count": 7,
   "id": "61408986-34ee-4d9f-957a-859154db7c2f",
   "metadata": {},
   "outputs": [],
   "source": [
    "write.csv(lrpairs, \n",
    "          '/n/fs/ragr-research/users/hirak/Projects/copulacci/src/copulacci/_data/LRdatabase/CellTalkDB/lrpairs.csv')"
   ]
  },
  {
   "cell_type": "code",
   "execution_count": 6,
   "id": "2a8bdadf-71f5-4c12-b7db-5cbaf6f36125",
   "metadata": {},
   "outputs": [
    {
     "data": {
      "text/html": [
       "<table class=\"dataframe\">\n",
       "<caption>A data.frame: 1 × 3</caption>\n",
       "<thead>\n",
       "\t<tr><th scope=col>ligand</th><th scope=col>receptor</th><th scope=col>species</th></tr>\n",
       "\t<tr><th scope=col>&lt;chr&gt;</th><th scope=col>&lt;chr&gt;</th><th scope=col>&lt;chr&gt;</th></tr>\n",
       "</thead>\n",
       "<tbody>\n",
       "\t<tr><td>CD6</td><td>ALCAM</td><td>Human</td></tr>\n",
       "</tbody>\n",
       "</table>\n"
      ],
      "text/latex": [
       "A data.frame: 1 × 3\n",
       "\\begin{tabular}{lll}\n",
       " ligand & receptor & species\\\\\n",
       " <chr> & <chr> & <chr>\\\\\n",
       "\\hline\n",
       "\t CD6 & ALCAM & Human\\\\\n",
       "\\end{tabular}\n"
      ],
      "text/markdown": [
       "\n",
       "A data.frame: 1 × 3\n",
       "\n",
       "| ligand &lt;chr&gt; | receptor &lt;chr&gt; | species &lt;chr&gt; |\n",
       "|---|---|---|\n",
       "| CD6 | ALCAM | Human |\n",
       "\n"
      ],
      "text/plain": [
       "  ligand receptor species\n",
       "1 CD6    ALCAM    Human  "
      ]
     },
     "metadata": {},
     "output_type": "display_data"
    }
   ],
   "source": []
  },
  {
   "cell_type": "code",
   "execution_count": null,
   "id": "959e7ef6-69b4-481a-8664-90368b98ca89",
   "metadata": {},
   "outputs": [],
   "source": []
  }
 ],
 "metadata": {
  "kernelspec": {
   "display_name": "R",
   "language": "R",
   "name": "ir"
  },
  "language_info": {
   "codemirror_mode": "r",
   "file_extension": ".r",
   "mimetype": "text/x-r-source",
   "name": "R",
   "pygments_lexer": "r",
   "version": "4.3.2"
  }
 },
 "nbformat": 4,
 "nbformat_minor": 5
}
