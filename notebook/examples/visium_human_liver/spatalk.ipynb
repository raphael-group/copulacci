{
 "cells": [
  {
   "cell_type": "code",
   "execution_count": 3,
   "id": "acbf6e7a-4c78-47e9-8968-b4d8e0c223a1",
   "metadata": {},
   "outputs": [
    {
     "name": "stderr",
     "output_type": "stream",
     "text": [
      "Loading required package: ggalluvial\n",
      "\n",
      "Loading required package: ggplot2\n",
      "\n",
      "Loading required package: doParallel\n",
      "\n",
      "Loading required package: foreach\n",
      "\n",
      "Loading required package: iterators\n",
      "\n",
      "Loading required package: parallel\n",
      "\n"
     ]
    }
   ],
   "source": [
    "library(SpaTalk)"
   ]
  },
  {
   "cell_type": "code",
   "execution_count": null,
   "id": "bdfdfd3f-2a79-4230-a44b-24bb324403cc",
   "metadata": {},
   "outputs": [],
   "source": []
  },
  {
   "cell_type": "code",
   "execution_count": 3,
   "id": "f58201c5-b3b5-4b6a-957f-5ee24c541746",
   "metadata": {},
   "outputs": [
    {
     "ename": "ERROR",
     "evalue": "Error in parse(text = x, srcfile = src): <text>:1:1: unexpected '@'\n1: @\n    ^\n",
     "output_type": "error",
     "traceback": [
      "Error in parse(text = x, srcfile = src): <text>:1:1: unexpected '@'\n1: @\n    ^\nTraceback:\n"
     ]
    }
   ],
   "source": [
    "@source \\url{http://tcm.zju.edu.cn/celltalkdb/}"
   ]
  },
  {
   "cell_type": "code",
   "execution_count": 2,
   "id": "ceb1a7aa-c889-4369-9fb3-2b1ae5c5d4a7",
   "metadata": {},
   "outputs": [],
   "source": [
    "# create SpaTalk data\n",
    "obj <- createSpaTalk(st_data = as.matrix(starmap_data),\n",
    "                     st_meta = starmap_meta[, -4],\n",
    "                     species = \"Mouse\",\n",
    "                     if_st_is_sc = T,\n",
    "                     spot_max_cell = 1,\n",
    "                     celltype = starmap_meta$celltype)"
   ]
  },
  {
   "cell_type": "code",
   "execution_count": 1,
   "id": "bc84ebcd-d5c2-4623-b2a2-063218e5b9ce",
   "metadata": {},
   "outputs": [
    {
     "data": {
      "text/html": [
       "'geneinfo'"
      ],
      "text/latex": [
       "'geneinfo'"
      ],
      "text/markdown": [
       "'geneinfo'"
      ],
      "text/plain": [
       "[1] \"geneinfo\""
      ]
     },
     "metadata": {},
     "output_type": "display_data"
    }
   ],
   "source": [
    "#' geneinfo\n",
    "#'\n",
    "#' Gene symbols of \\code{'Human'} and \\code{'Mouse'} updated on June 30, 2021 for revising count matrix.\n",
    "#' @source \\url{https://www.ncbi.nlm.nih.gov/gene}\n",
    "\"geneinfo\"\n"
   ]
  },
  {
   "cell_type": "code",
   "execution_count": 2,
   "id": "528d9ba8-212c-45ed-99c8-b6b36c5d8e58",
   "metadata": {},
   "outputs": [
    {
     "ename": "ERROR",
     "evalue": "Error in eval(expr, envir, enclos): object 'geneinfo' not found\n",
     "output_type": "error",
     "traceback": [
      "Error in eval(expr, envir, enclos): object 'geneinfo' not found\nTraceback:\n"
     ]
    }
   ],
   "source": []
  },
  {
   "cell_type": "code",
   "execution_count": null,
   "id": "7f171216-1631-447c-858c-791bd1913508",
   "metadata": {},
   "outputs": [],
   "source": []
  }
 ],
 "metadata": {
  "kernelspec": {
   "display_name": "R",
   "language": "R",
   "name": "ir"
  },
  "language_info": {
   "codemirror_mode": "r",
   "file_extension": ".r",
   "mimetype": "text/x-r-source",
   "name": "R",
   "pygments_lexer": "r",
   "version": "4.3.2"
  }
 },
 "nbformat": 4,
 "nbformat_minor": 5
}
